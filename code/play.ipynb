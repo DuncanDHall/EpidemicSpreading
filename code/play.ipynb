{
 "cells": [
  {
   "cell_type": "code",
   "execution_count": 74,
   "metadata": {
    "collapsed": false
   },
   "outputs": [],
   "source": [
    "from networks import *\n",
    "from simulation import *\n",
    "from display import *\n",
    "import numpy as np\n",
    "from matplotlib import pyplot as plt\n",
    "\n",
    "%matplotlib inline"
   ]
  },
  {
   "cell_type": "code",
   "execution_count": 3,
   "metadata": {
    "collapsed": false
   },
   "outputs": [],
   "source": [
    "g = gen_BA_graph(1000, 3)"
   ]
  },
  {
   "cell_type": "code",
   "execution_count": 3,
   "metadata": {
    "collapsed": false
   },
   "outputs": [
    {
     "data": {
      "text/plain": [
       "array([ 0.5  ,  0.149,  0.106, ...,  0.161,  0.167,  0.146])"
      ]
     },
     "execution_count": 3,
     "metadata": {},
     "output_type": "execute_result"
    }
   ],
   "source": [
    "run_SIS_simulation(g, 0.3, time_steps=500)\n",
    "run_SIS_simulation(g, 0.3, time_steps=1000)\n",
    "run_SIS_simulation(g, 0.3, time_steps=2000)"
   ]
  },
  {
   "cell_type": "code",
   "execution_count": 5,
   "metadata": {
    "collapsed": false,
    "scrolled": true
   },
   "outputs": [
    {
     "name": "stdout",
     "output_type": "stream",
     "text": [
      "0.0\n",
      "0.0\n",
      "0.0\n",
      "0.0\n",
      "0.0\n"
     ]
    }
   ],
   "source": [
    "for lam in np.linspace(0, 1, 5):\n",
    "    print(run_SIS_simulation(g, 0.1))"
   ]
  },
  {
   "cell_type": "code",
   "execution_count": null,
   "metadata": {
    "collapsed": false
   },
   "outputs": [],
   "source": [
    "g = gen_BA_graph(100000, 3)\n",
    "data = run_SIS_simulation(g, .05, rho_0=0.1, time_steps=50)\n",
    "plot_all_time_steps(data)"
   ]
  },
  {
   "cell_type": "code",
   "execution_count": 70,
   "metadata": {
    "collapsed": false
   },
   "outputs": [],
   "source": [
    "lambdas_plan = {\n",
    "    1e5 : np.linspace(1/12, 1/8, 5),\n",
    "    5e5 : np.linspace(1/15, 1/10, 3),\n",
    "    1e6 : np.linspace(1/17, 1/12, 2),\n",
    "    5e6 : np.linspace(1/18, 1/15, 2),\n",
    "#     8.5e6 : np.linspace(1/20, 1/19, 2),\n",
    "    8.5e6 : [1/20]\n",
    "}\n",
    "\n",
    "data = {}\n",
    "for size in lambdas_plan.keys():\n",
    "    print('starting size: ', size)\n",
    "    for lam in lambdas_plan[size]:\n",
    "        print('starting lamda: ', lam)\n",
    "        data[(size, lam)] = []\n",
    "        for trial in range(10):\n",
    "            print('t', trial)\n",
    "            data[(size, lam)].append(run_SIS_simulation(g, lam, time_steps=20)[-1])\n",
    "        data[(size, lam)] = np.mean(data[(size, lam)])"
   ]
  },
  {
   "cell_type": "code",
   "execution_count": 75,
   "metadata": {
    "collapsed": false
   },
   "outputs": [
    {
     "data": {
      "image/png": "[encoded data removed]",
      "text/plain": [
       "<matplotlib.figure.Figure at 0x106a69400>"
      ]
     },
     "metadata": {},
     "output_type": "display_data"
    }
   ],
   "source": [
    "data\n",
    "keys = data.keys()\n",
    "\n",
    "for key in keys:\n",
    "    xs = [1/k[1] for k in keys]\n",
    "    ys = [data[key] for key in keys]\n",
    "thinkplot.plot(xs, ys, style='o')\n",
    "thinkplot.config(ylim=[1e-4, 3e-2], yscale='log', xlabel='1 / lambda', ylabel='persistance')\n",
    "plt.savefig('different_name.pdf')"
   ]
  },
  {
   "cell_type": "code",
   "execution_count": null,
   "metadata": {
    "collapsed": true
   },
   "outputs": [],
   "source": []
  }
 ],
 "metadata": {
  "kernelspec": {
   "display_name": "Python 3",
   "language": "python",
   "name": "python3"
  },
  "language_info": {
   "codemirror_mode": {
    "name": "ipython",
    "version": 3
   },
   "file_extension": ".py",
   "mimetype": "text/x-python",
   "name": "python",
   "nbconvert_exporter": "python",
   "pygments_lexer": "ipython3",
   "version": "3.6.0"
  }
 },
 "nbformat": 4,
 "nbformat_minor": 2
}
