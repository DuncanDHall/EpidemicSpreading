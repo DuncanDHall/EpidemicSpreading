{
 "cells": [
  {
   "cell_type": "code",
   "execution_count": 4,
   "metadata": {},
   "outputs": [],
   "source": [
    "from networks import *\n",
    "from simulation import *\n",
    "from display import *\n",
    "import numpy as np\n",
    "from matplotlib import pyplot as plt\n",
    "\n",
    "%matplotlib inline"
   ]
  },
  {
   "cell_type": "code",
   "execution_count": 2,
   "metadata": {},
   "outputs": [],
   "source": [
    "g = gen_BA_graph(1000, 3)"
   ]
  },
  {
   "cell_type": "code",
   "execution_count": 3,
   "metadata": {},
   "outputs": [
    {
     "data": {
      "text/plain": [
       "array([ 0.5  ,  0.149,  0.106, ...,  0.161,  0.167,  0.146])"
      ]
     },
     "execution_count": 3,
     "metadata": {},
     "output_type": "execute_result"
    }
   ],
   "source": [
    "run_SIS_simulation(g, 0.3, time_steps=500)\n",
    "run_SIS_simulation(g, 0.3, time_steps=1000)\n",
    "run_SIS_simulation(g, 0.3, time_steps=2000)"
   ]
  },
  {
   "cell_type": "code",
   "execution_count": 5,
   "metadata": {
    "scrolled": true
   },
   "outputs": [
    {
     "name": "stdout",
     "output_type": "stream",
     "text": [
      "0.0\n",
      "0.0\n",
      "0.0\n",
      "0.0\n",
      "0.0\n"
     ]
    }
   ],
   "source": [
    "for lam in np.linspace(0, 1, 5):\n",
    "    print(run_SIS_simulation(g, 0.1))"
   ]
  },
  {
   "cell_type": "code",
   "execution_count": null,
   "metadata": {},
   "outputs": [],
   "source": [
    "g = gen_BA_graph(100000, 3)\n",
    "data = run_SIS_simulation(g, .05, rho_0=0.1, time_steps=50)\n",
    "plot_all_time_steps(data)"
   ]
  },
  {
   "cell_type": "code",
   "execution_count": 8,
   "metadata": {},
   "outputs": [
    {
     "name": "stdout",
     "output_type": "stream",
     "text": [
      "starting size:  100000.0\n",
      "\tstarting lamda:  0.0833333333333\n",
      "\tstarting lamda:  0.09375\n",
      "\tstarting lamda:  0.104166666667\n",
      "\tstarting lamda:  0.114583333333\n",
      "\tstarting lamda:  0.125\n",
      "starting size:  500000.0\n",
      "\tstarting lamda:  0.0666666666667\n",
      "\tstarting lamda:  0.0833333333333\n",
      "\tstarting lamda:  0.1\n",
      "starting size:  1000000.0\n",
      "\tstarting lamda:  0.0588235294118\n",
      "\tstarting lamda:  0.0833333333333\n",
      "starting size:  5000000.0\n",
      "\tstarting lamda:  0.0555555555556\n",
      "\tstarting lamda:  0.0666666666667\n",
      "starting size:  8500000.0\n",
      "\tstarting lamda:  0.05\n",
      "\tstarting lamda:  0.0526315789474\n"
     ]
    }
   ],
   "source": [
    "lambdas_plan = {\n",
    "    1e5 : np.linspace(1/12, 1/8, 5),\n",
    "    5e5 : np.linspace(1/15, 1/10, 3),\n",
    "    1e6 : np.linspace(1/17, 1/12, 2),\n",
    "    5e6 : np.linspace(1/18, 1/15, 2),\n",
    "    8.5e6 : np.linspace(1/20, 1/19, 2),\n",
    "#     8.5e6 : [1/20]\n",
    "}\n",
    "\n",
    "data = {}\n",
    "for size in lambdas_plan.keys():\n",
    "    print('starting size: ', size)\n",
    "    g = gen_BA_graph(size, 3)\n",
    "    for lam in lambdas_plan[size]:\n",
    "        print('\\tstarting lamda: ', lam)\n",
    "        data[(size, lam)] = []\n",
    "        for trial in range(10):\n",
    "#             print('t', trial)\n",
    "            data[(size, lam)].append(run_SIS_simulation(g, lam, time_steps=20)[-1])\n",
    "        data[(size, lam)] = np.mean(data[(size, lam)])"
   ]
  },
  {
   "cell_type": "code",
   "execution_count": 19,
   "metadata": {},
   "outputs": [],
   "source": [
    "import pickle"
   ]
  },
  {
   "cell_type": "code",
   "execution_count": 22,
   "metadata": {},
   "outputs": [],
   "source": [
    "pickle.dump(data, open('big_data.pickle', 'wb'))"
   ]
  },
  {
   "cell_type": "code",
   "execution_count": 21,
   "metadata": {},
   "outputs": [],
   "source": [
    "# d = pickle.load(open('big_data.pickle', 'rb'))"
   ]
  },
  {
   "cell_type": "code",
   "execution_count": 27,
   "metadata": {},
   "outputs": [],
   "source": [
    "plottable_data = {}\n",
    "for size, lam in data:\n",
    "    plottable_data[size] = plottable_data.get(size, []) + [(1.0/lam, data[(size, lam)])]"
   ]
  },
  {
   "cell_type": "code",
   "execution_count": 53,
   "metadata": {},
   "outputs": [
    {
     "data": {
      "image/png": "[encoded data removed]",
      "text/plain": [
       "<matplotlib.figure.Figure at 0x11b3ae748>"
      ]
     },
     "metadata": {},
     "output_type": "display_data"
    }
   ],
   "source": []
  },
  {
   "cell_type": "markdown",
   "metadata": {},
   "source": [
    "# Plot No. 1"
   ]
  },
  {
   "cell_type": "code",
   "execution_count": 148,
   "metadata": {
    "scrolled": true
   },
   "outputs": [
    {
     "data": {
      "image/png": "[encoded data removed]",
      "text/plain": [
       "<matplotlib.figure.Figure at 0x127184a58>"
      ]
     },
     "metadata": {},
     "output_type": "display_data"
    }
   ],
   "source": [
    "# plot a fit\n",
    "all_xs = []\n",
    "all_ys = []\n",
    "for values in plottable_data.values():\n",
    "    xs, ys = zip(*values)\n",
    "    all_xs.extend(xs)\n",
    "    all_ys.extend(ys)\n",
    "    \n",
    "a, c = np.polyfit(all_xs, np.log(all_ys), 1)\n",
    "fit_xs = np.linspace(8, 20, 100)\n",
    "fit_ys = np.exp(a * fit_xs + c)\n",
    "thinkplot.plot(fit_xs, fit_ys, style='--', linewidth=1, color=(.4,.4,.4), alpha=1.0)\n",
    "\n",
    "\n",
    "# plot a \n",
    "shapes = ['o', '+', 's', 'x', 'v', '.']\n",
    "colors = [(1., 0., 0.), (1., .5, 0.), (.5, 1., 0.), (0., 1., 0.), (0., .9, .9)]\n",
    "\n",
    "for size, shape, color in zip(plottable_data, shapes, colors):\n",
    "    xs, ys = zip(*plottable_data[size])\n",
    "    thinkplot.plot(xs, ys, style='^', color=color, markersize=10, alpha=1.0)\n",
    "    \n",
    "\n",
    "thinkplot.config(ylim=[1e-4, 3e-2], yscale='log', xlabel='1 / lambda', ylabel='persistance')\n",
    "\n",
    "plt.savefig('takes_a_while.pdf')"
   ]
  },
  {
   "cell_type": "markdown",
   "metadata": {},
   "source": [
    "# Plot No. 2"
   ]
  },
  {
   "cell_type": "code",
   "execution_count": 99,
   "metadata": {},
   "outputs": [
    {
     "name": "stdout",
     "output_type": "stream",
     "text": [
      "starting size  6250\n",
      "starting trial  0\n",
      "starting trial  50\n"
     ]
    }
   ],
   "source": [
    "sizes = [500000, 25000, 12500, 6250]\n",
    "sizes = [6250]\n",
    "\n",
    "lam = 0.065\n",
    "trials = 100\n",
    "ts = 50\n",
    "\n",
    "data = {}\n",
    "\n",
    "for size in sizes:\n",
    "    print('starting size ', size)\n",
    "    surviving_strains = np.zeros(ts, dtype=np.int32)  # how many trials are surviving at time t\n",
    "    g = gen_BA_graph(size, 3)\n",
    "    for trial in range(trials):\n",
    "        if trial % 50 == 0:\n",
    "            print('starting trial ', trial)\n",
    "        surviving_strains += np.array([bool(rho) for rho in run_SIS_simulation(g, lam, time_steps=ts)])\n",
    "\n",
    "    data[size] = surviving_strains"
   ]
  },
  {
   "cell_type": "code",
   "execution_count": 100,
   "metadata": {},
   "outputs": [],
   "source": [
    "pickle.dump(data, open('survival4.pickle', 'wb'))"
   ]
  },
  {
   "cell_type": "code",
   "execution_count": 101,
   "metadata": {},
   "outputs": [
    {
     "data": {
      "text/plain": [
       "{6250: array([100, 100, 100, 100, 100, 100, 100,  97,  92,  82,  73,  68,  60,\n",
       "         52,  46,  40,  35,  30,  27,  24,  19,  17,  14,   9,   8,   7,\n",
       "          6,   3,   2,   1,   1,   1,   1,   0,   0,   0,   0,   0,   0,\n",
       "          0,   0,   0,   0,   0,   0,   0,   0,   0,   0,   0], dtype=int32)}"
      ]
     },
     "execution_count": 101,
     "metadata": {},
     "output_type": "execute_result"
    }
   ],
   "source": [
    "data"
   ]
  },
  {
   "cell_type": "code",
   "execution_count": 102,
   "metadata": {},
   "outputs": [
    {
     "data": {
      "image/png": "[encoded data removed]",
      "text/plain": [
       "<matplotlib.figure.Figure at 0x115b3bf60>"
      ]
     },
     "metadata": {},
     "output_type": "display_data"
    }
   ],
   "source": [
    "data2 = pickle.load(open('survival4.pickle', 'rb'))\n",
    "for size in data2:\n",
    "    thinkplot.plot(range(0, ts), data2[size]/trials, style='-')\n",
    "    \n",
    "thinkplot.config(yscale='log', xlabel='t', ylabel='surviving probability')"
   ]
  },
  {
   "cell_type": "code",
   "execution_count": null,
   "metadata": {},
   "outputs": [],
   "source": []
  }
 ],
 "metadata": {
  "kernelspec": {
   "display_name": "Python 3",
   "language": "python",
   "name": "python3"
  }
 },
 "nbformat": 4,
 "nbformat_minor": 2
}
