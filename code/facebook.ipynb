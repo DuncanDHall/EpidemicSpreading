{
 "cells": [
  {
   "cell_type": "code",
   "execution_count": 77,
   "metadata": {},
   "outputs": [],
   "source": [
    "from networks import *\n",
    "from simulation import *\n",
    "from display import *\n",
    "import numpy as np\n",
    "from matplotlib import pyplot as plt\n",
    "import thinkplot\n",
    "\n",
    "%matplotlib inline"
   ]
  },
  {
   "cell_type": "code",
   "execution_count": 105,
   "metadata": {},
   "outputs": [],
   "source": [
    "fb_g = load_graph('facebook_combined.txt.gz')\n",
    "ba_g = gen_BA_graph(4039, 22)"
   ]
  },
  {
   "cell_type": "code",
   "execution_count": 21,
   "metadata": {},
   "outputs": [
    {
     "name": "stdout",
     "output_type": "stream",
     "text": [
      "88234 88374\n",
      "4039 4039\n"
     ]
    }
   ],
   "source": [
    "print(fb_g.number_of_edges(), ba_g.number_of_edges())\n",
    "print(fb_g.number_of_nodes(), ba_g.number_of_nodes())"
   ]
  },
  {
   "cell_type": "code",
   "execution_count": 37,
   "metadata": {},
   "outputs": [
    {
     "name": "stdout",
     "output_type": "stream",
     "text": [
      "0.214148166488\n",
      "0.230587879288\n"
     ]
    }
   ],
   "source": [
    "print(np.mean(run_SIS_simulation(fb_g, 0.3, rho_0=None, time_steps=100)[10:]))\n",
    "print(np.mean(run_SIS_simulation(ba_g, 0.3, rho_0=None, time_steps=100)[10:]))\n",
    "# run_SIS_simulation(fb_g, 0.3, time_steps=1000)\n",
    "# run_SIS_simulation(fb_g, 0.3, time_steps=2000)\n",
    "# run_SIS_simulation(ba_g, 0.3, rho_0=None, time_steps=100)"
   ]
  },
  {
   "cell_type": "code",
   "execution_count": null,
   "metadata": {},
   "outputs": [],
   "source": [
    "# Experiment 1"
   ]
  },
  {
   "cell_type": "code",
   "execution_count": 43,
   "metadata": {},
   "outputs": [
    {
     "name": "stdout",
     "output_type": "stream",
     "text": [
      "starting lambda:  0.125\n",
      "starting lambda:  0.116666666667\n",
      "starting lambda:  0.108333333333\n",
      "starting lambda:  0.1\n",
      "starting lambda:  0.0916666666667\n",
      "starting lambda:  0.0833333333333\n",
      "starting lambda:  0.075\n",
      "starting lambda:  0.0666666666667\n",
      "starting lambda:  0.0583333333333\n",
      "starting lambda:  0.05\n"
     ]
    },
    {
     "data": {
      "text/plain": [
       "[0.087422629363703888,\n",
       " 0.079772220846744249,\n",
       " 0.074127259222579858,\n",
       " 0.067962366922505568,\n",
       " 0.059569200297103241,\n",
       " 0.0525377568705125,\n",
       " 0.045258727407774202,\n",
       " 0.037459767269126018,\n",
       " 0.030230255013617237,\n",
       " 0.022678880911116611]"
      ]
     },
     "execution_count": 43,
     "metadata": {},
     "output_type": "execute_result"
    }
   ],
   "source": [
    "trials = 10\n",
    "\n",
    "lambdas = np.linspace(1/8, 1/20, 10)\n",
    "rhos = []\n",
    "\n",
    "for lam in lambdas:\n",
    "    print('starting lambda: ', lam)\n",
    "    trial_rhos = []\n",
    "    for trial in range(trials):\n",
    "        trial_rhos.append(run_SIS_simulation(fb_g, lam, time_steps=20)[-1])\n",
    "    rhos.append(np.mean(trial_rhos))\n",
    "\n",
    "# lambdas_plan = {\n",
    "#     1e5 : np.linspace(1/12, 1/8, 5),\n",
    "#     5e5 : np.linspace(1/15, 1/10, 3),\n",
    "#     1e6 : np.linspace(1/17, 1/12, 2),\n",
    "#     5e6 : np.linspace(1/18, 1/15, 2),\n",
    "#     8.5e6 : np.linspace(1/20, 1/19, 2),\n",
    "# #     8.5e6 : [1/20]\n",
    "# }\n",
    "\n",
    "# data = {}\n",
    "# for size in lambdas_plan.keys():\n",
    "#     print('starting size: ', size)\n",
    "#     for lam in lambdas_plan[size]:\n",
    "#         print('\\tstarting lamda: ', lam)\n",
    "#         data[(size, lam)] = []\n",
    "#         for trial in range(10):\n",
    "# #             print('t', trial)\n",
    "#             data[(size, lam)].append(run_SIS_simulation(g, lam, time_steps=20)[-1])\n",
    "#         data[(size, lam)] = np.mean(data[(size, lam)])\n",
    "rhos"
   ]
  },
  {
   "cell_type": "code",
   "execution_count": 55,
   "metadata": {
    "scrolled": true
   },
   "outputs": [
    {
     "data": {
      "image/png": "[encoded data removed]",
      "text/plain": [
       "<matplotlib.figure.Figure at 0x117668ac8>"
      ]
     },
     "metadata": {},
     "output_type": "display_data"
    }
   ],
   "source": [
    "a, c = np.polyfit(1/lambdas, np.log(rhos), 1)\n",
    "fit_xs = np.linspace(8, 20, 100)\n",
    "fit_ys = np.exp(a * fit_xs + c)\n",
    "thinkplot.plot(fit_xs, fit_ys, style='--', linewidth=1, color=(.4,.4,.4), alpha=1.0)\n",
    "\n",
    "\n",
    "# plot a \n",
    "shapes = ['o', '+', 's', 'x', 'v', '.']\n",
    "colors = [(1., 0., 0.), (1., .5, 0.), (.5, 1., 0.), (0., 1., 0.), (0., .9, .9)]\n",
    "\n",
    "thinkplot.plot(1/lambdas, rhos, style='^', color=colors[0], markersize=10, alpha=1.0)\n",
    "thinkplot.config(yscale='log', xlabel='1 / lambda', ylabel='persistance')\n",
    "\n",
    "plt.savefig('fb_fig1.pdf')"
   ]
  },
  {
   "cell_type": "code",
   "execution_count": 106,
   "metadata": {},
   "outputs": [],
   "source": [
    "fb_degrees = [fb_g.degree(n) for n in fb_g.nodes()]\n",
    "ba_degrees = [ba_g.degree(n) for n in fb_g.nodes()]"
   ]
  },
  {
   "cell_type": "code",
   "execution_count": 117,
   "metadata": {},
   "outputs": [
    {
     "data": {
      "text/plain": [
       "<matplotlib.text.Text at 0x122936d30>"
      ]
     },
     "execution_count": 117,
     "metadata": {},
     "output_type": "execute_result"
    },
    {
     "data": {
      "image/png": "[encoded data removed]",
      "text/plain": [
       "<matplotlib.figure.Figure at 0x122976a90>"
      ]
     },
     "metadata": {},
     "output_type": "display_data"
    }
   ],
   "source": [
    "plt.hist(fb_degrees, color=(.26, .41, .69, .7))\n",
    "plt.hist(ba_degrees, color=(0, 1, 0, .5))\n",
    "plt.yscale('log')\n",
    "plt.xlabel('degree')\n",
    "plt.ylabel('nodes')\n",
    "plt.title('')\n",
    "# plt.xscale('log')\n",
    "# plt.ylim(0, 5000)"
   ]
  },
  {
   "cell_type": "code",
   "execution_count": null,
   "metadata": {},
   "outputs": [],
   "source": []
  }
 ],
 "metadata": {
  "kernelspec": {
   "display_name": "Python 3",
   "language": "python",
   "name": "python3"
  },
  "language_info": {
   "codemirror_mode": {
    "name": "ipython",
    "version": 3
   },
   "file_extension": ".py",
   "mimetype": "text/x-python",
   "name": "python",
   "nbconvert_exporter": "python",
   "pygments_lexer": "ipython3",
   "version": "3.6.0"
  }
 },
 "nbformat": 4,
 "nbformat_minor": 2
}
